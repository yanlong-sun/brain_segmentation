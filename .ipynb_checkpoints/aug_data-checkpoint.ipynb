{
 "cells": [
  {
   "cell_type": "code",
   "execution_count": null,
   "metadata": {},
   "outputs": [],
   "source": [
    "import cv2\n",
    "from imgaug import augmenters as iaa"
   ]
  },
  {
   "cell_type": "code",
   "execution_count": null,
   "metadata": {},
   "outputs": [],
   "source": [
    "seq = iss.Sequential(\n",
    "    [\n",
    "\n",
    "    ]\n",
    ")"
   ]
  },
  {
   "cell_type": "code",
   "execution_count": null,
   "metadata": {},
   "outputs": [],
   "source": [
    "unaug_training_image_path = './data/train/'\n",
    "aug_training_image_path = './data/aug_train/'\n",
    "imgs_train, imgs_mask_train, names = load_data(unaug_train_images_path)\n",
    "aug_imgs_train = seq.augment_images(imgs_train)\n",
    "aug_imgs_mask_train = seq.augment_images(imgs_mask_train)\n",
    "c = 1\n",
    "for each in aug_imgs_mask_train:\n",
    "    cv2.imwrite(aug_training_image_path, '')"
   ]
  }
 ],
 "metadata": {
  "kernelspec": {
   "display_name": "Python 3",
   "language": "python",
   "name": "python3"
  },
  "language_info": {
   "codemirror_mode": {
    "name": "ipython",
    "version": 3
   },
   "file_extension": ".py",
   "mimetype": "text/x-python",
   "name": "python",
   "nbconvert_exporter": "python",
   "pygments_lexer": "ipython3",
   "version": "3.7.6"
  }
 },
 "nbformat": 4,
 "nbformat_minor": 4
}
